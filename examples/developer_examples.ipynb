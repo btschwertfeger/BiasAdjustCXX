{
 "cells": [
  {
   "attachments": {},
   "cell_type": "markdown",
   "id": "a74aa77d-a2db-4bec-8175-a2a761f8fd96",
   "metadata": {},
   "source": [
    "<center><h1>How to bias-adjust time series of climate data using <a href=\"https://github.com/btschwertfeger/Bias-Adjustment-Cpp\" target=\"_blank\">this</a> raw data structures?</h1></center>\n",
    "\n",
    "```bash\n",
    "# @author Benjamin Thomas Schwertfeger\n",
    "# @email contact@b-schwertfeger.de\n",
    "# @github https://github.com/btschwertfeger/BiasAdjustCXX\n",
    "#\n",
    "#    * Copyright (C) 2023 Benjamin Thomas Schwertfeger\n",
    "#\n",
    "#    This program is free software: you can redistribute it and/or modify\n",
    "#    it under the terms of the GNU General Public License as published by\n",
    "#    the Free Software Foundation, either version 3 of the License, or\n",
    "#    any later version.\n",
    "#\n",
    "#    This program is distributed in the hope that it will be useful,\n",
    "#    but WITHOUT ANY WARRANTY; without even the implied warranty of\n",
    "#    MERCHANTABILITY or FITNESS FOR A PARTICULAR PURPOSE. See the\n",
    "#    GNU General Public License for more details.\n",
    "#\n",
    "#    You should have received a copy of the GNU General Public License\n",
    "#    along with this program.  If not, see <https://www.gnu.org/licenses/>.\n",
    "```\n",
    "Note: This Notebook requires a `xeus-cling` C++11 kernel and only serves as an example on how to use the raw methods of this source files. Examples on how to apply the `BiasAdjustCXX` command-line tool can be found in `Hands-On-BiasAdjustCXX.ipynb`"
   ]
  },
  {
   "cell_type": "markdown",
   "id": "353d052c-c7ae-4b50-9fe0-8bab7ff92b85",
   "metadata": {},
   "source": [
    "# 1. Preparation\n",
    "## 1.1 Includes"
   ]
  },
  {
   "cell_type": "code",
   "execution_count": 1,
   "id": "6a234eeb",
   "metadata": {},
   "outputs": [],
   "source": [
    "#include <math.h>\n",
    "#include <iostream>"
   ]
  },
  {
   "cell_type": "code",
   "execution_count": 2,
   "id": "4e8159fc-7e14-447d-b3d3-68ac65342a25",
   "metadata": {},
   "outputs": [],
   "source": [
    "#pragma cling add_include_path(\"/Users/benjamin/repositories/awi-workspace/BiasAdjustCXX/include/\") // change for the specific location of the header files\n",
    "#pragma cling add_include_path(\"/Users/benjamin/repositories/awi-workspace/BiasAdjustCXX/src/\")     //     --//--      --//--      --//--      source files\n",
    "#pragma cling add_library_path(\"/usr/local/lib\")\n",
    "#pragma cling add_include_path(\"/usr/local/include\")"
   ]
  },
  {
   "cell_type": "code",
   "execution_count": 3,
   "id": "2358e686-b641-4455-b459-2bfc299ca03c",
   "metadata": {},
   "outputs": [],
   "source": [
    "#include <netcdf>\n",
    "#pragma cling load(\"netcdf-cxx4\")"
   ]
  },
  {
   "cell_type": "code",
   "execution_count": 4,
   "id": "4a3b8c3c-bd38-4a8e-a337-7a5c44c6d6bd",
   "metadata": {},
   "outputs": [],
   "source": [
    "#pragma cling load(\"CMethods.hxx\")\n",
    "#pragma cling load(\"NcFileHandler.hxx\")\n",
    "#pragma cling load(\"MathUtils.hxx\")\n",
    "\n",
    "#pragma cling load(\"CMethods.cxx\")\n",
    "#pragma cling load(\"NcFileHandler.cxx\")\n",
    "#pragma cling load(\"MathUtils.cxx\")"
   ]
  },
  {
   "cell_type": "markdown",
   "id": "b787e33f-4ea2-4b32-ac6e-adf78af8416e",
   "metadata": {},
   "source": [
    "____\n",
    "## 1.2 Setup"
   ]
  },
  {
   "cell_type": "code",
   "execution_count": 5,
   "id": "47d0f43e-6f6a-474f-81c5-5433cb33ed07",
   "metadata": {},
   "outputs": [],
   "source": [
    "std::string variable_name = \"tas\";"
   ]
  },
  {
   "cell_type": "code",
   "execution_count": 6,
   "id": "8a9fbb0f-fda3-4c01-a164-0150cda67b9a",
   "metadata": {},
   "outputs": [],
   "source": [
    "NcFileHandler\n",
    "    ds_obs = NcFileHandler(\"../input_data/observations.nc\", variable_name, 3),\n",
    "    ds_simh = NcFileHandler(\"../input_data/control.nc\", variable_name, 3),\n",
    "    ds_simp = NcFileHandler(\"../input_data/scenario.nc\", variable_name, 3); // 3 = number of dimensions (time x lat x lon)"
   ]
  },
  {
   "cell_type": "code",
   "execution_count": 7,
   "id": "9dc582c9-acc7-40c9-9cbc-90467b6bd5c9",
   "metadata": {},
   "outputs": [],
   "source": [
    "std::vector<float> v_obs_one_loc(ds_obs.n_time);   // observations (control period)\n",
    "std::vector<float> v_simh_one_loc(ds_obs.n_time);  // simulated (control period)\n",
    "std::vector<float> v_simp_one_loc(ds_obs.n_time);  // simulated (scenario period)\n",
    "\n",
    "std::vector<float> v_ls_result(ds_obs.n_time);   // Lienar Scaling result\n",
    "std::vector<float> v_qdm_result(ds_obs.n_time);  // Quantile Delta Mapping result"
   ]
  },
  {
   "cell_type": "markdown",
   "id": "f51b7b9a-29df-4c32-9b21-c451965f49e0",
   "metadata": {},
   "source": [
    "____\n",
    "## 1.3 Select grid box"
   ]
  },
  {
   "cell_type": "code",
   "execution_count": 8,
   "id": "f0c07739-20ba-4257-83a6-28292e8dcc31",
   "metadata": {},
   "outputs": [],
   "source": [
    "// select one time series from the data set (i. e. the time series of one location/grid cell)\n",
    "ds_obs.get_timeseries(v_obs_one_loc, 0, 0);\n",
    "ds_simh.get_timeseries(v_simh_one_loc, 0, 0);\n",
    "ds_simp.get_timeseries(v_simp_one_loc, 0, 0);"
   ]
  },
  {
   "cell_type": "markdown",
   "id": "5f723cf4-4338-4008-9470-53146b7ee3d7",
   "metadata": {},
   "source": [
    "## 2. Apply methods"
   ]
  },
  {
   "cell_type": "code",
   "execution_count": 9,
   "id": "48ff1b54-a74b-4545-97c2-c4a44d7f240a",
   "metadata": {},
   "outputs": [],
   "source": [
    "AdjustmentSettings settings = AdjustmentSettings(\n",
    "        10,   // max_scaling_factor\n",
    "        250,  // n_quantiles => number of quantiles to respect\n",
    "        true, // interval31_scaling => interval scaling; i.e. the mean is calculated based on -15 and +15 days for every day of year over all years instead of the mean per long-term month\n",
    "        \"add\" // kind => kind of adjustment ('+' or '*')\n",
    ");"
   ]
  },
  {
   "cell_type": "code",
   "execution_count": 10,
   "id": "31e5a36d-2648-47d0-af40-3d7fd2c7b136",
   "metadata": {},
   "outputs": [],
   "source": [
    "// apply additive linear scaling\n",
    "CMethods::Linear_Scaling(\n",
    "    v_ls_result,                // output vector\n",
    "    v_obs_one_loc,              // reference data (control period)\n",
    "    v_simh_one_loc,             // modeled data (control period)\n",
    "    v_simp_one_loc,             // modeled data (scenario period)\n",
    "    settings\n",
    ") "
   ]
  },
  {
   "cell_type": "code",
   "execution_count": 11,
   "id": "56814663-ba7f-4620-84b2-fb9ae5f5000a",
   "metadata": {},
   "outputs": [],
   "source": [
    "// apply quantile delta mapping\n",
    "CMethods::Quantile_Delta_Mapping(\n",
    "    v_qdm_result,               // output vector\n",
    "    v_obs_one_loc,              // reference data (control period)\n",
    "    v_simh_one_loc,             // modeled data (control period)\n",
    "    v_simp_one_loc,             // modeled data (scenario period)\n",
    "    settings\n",
    ") "
   ]
  },
  {
   "cell_type": "code",
   "execution_count": 12,
   "id": "ad8fe08c-82bc-41ea-be4e-f1159ae168d3",
   "metadata": {},
   "outputs": [],
   "source": [
    "int start = 0, end = 10;"
   ]
  },
  {
   "cell_type": "markdown",
   "id": "ab79fd5d-f775-42c5-bc84-dc39c8b5a603",
   "metadata": {},
   "source": [
    "### Observational data (control period 1971 - 2000)"
   ]
  },
  {
   "cell_type": "code",
   "execution_count": 13,
   "id": "135e8dd1-5588-4f12-b3ba-ab90fbe8ff83",
   "metadata": {},
   "outputs": [
    {
     "name": "stdout",
     "output_type": "stream",
     "text": [
      "-24.0942 -24.417 -24.1754 -24.0361 -23.7633 -24.1706 -23.71 -24.5677 -24.654 -23.4294 "
     ]
    }
   ],
   "source": [
    "for(unsigned ts = start; ts < end; ts++) std::cout << v_obs_one_loc[ts] << \" \";"
   ]
  },
  {
   "cell_type": "code",
   "execution_count": 14,
   "id": "d83c6534-4223-4e05-bd76-e3f30fd1a90f",
   "metadata": {},
   "outputs": [
    {
     "name": "stdout",
     "output_type": "stream",
     "text": [
      "-2.49039"
     ]
    }
   ],
   "source": [
    "std::cout << MathUtils::mean(v_obs_one_loc);"
   ]
  },
  {
   "cell_type": "markdown",
   "id": "ffbe4177-282e-4ddd-9a41-1762bccfc11d",
   "metadata": {},
   "source": [
    "### Model data (control period 1971 - 2000)"
   ]
  },
  {
   "cell_type": "code",
   "execution_count": 15,
   "id": "707cda33-35e9-47b9-890c-92126a6af512",
   "metadata": {},
   "outputs": [
    {
     "name": "stdout",
     "output_type": "stream",
     "text": [
      "-26.0942 -26.417 -26.1754 -26.0361 -25.7633 -26.1706 -25.71 -26.5677 -26.654 -25.4294 "
     ]
    }
   ],
   "source": [
    "for(unsigned ts = start; ts < end; ts++) std::cout << v_simh_one_loc[ts] << \" \";"
   ]
  },
  {
   "cell_type": "code",
   "execution_count": 16,
   "id": "b7942be1-3da1-4bc9-bf11-0560e0f98919",
   "metadata": {},
   "outputs": [
    {
     "name": "stdout",
     "output_type": "stream",
     "text": [
      "-4.49039"
     ]
    }
   ],
   "source": [
    "std::cout << MathUtils::mean(v_simh_one_loc);"
   ]
  },
  {
   "cell_type": "markdown",
   "id": "1ad3e6d6-d007-405c-82ea-f4fefc36c665",
   "metadata": {},
   "source": [
    "### Model data (scenario period 2001 - 2030)"
   ]
  },
  {
   "cell_type": "code",
   "execution_count": 17,
   "id": "8bd00cbb-fc9d-4f42-be64-d7dc31c040bb",
   "metadata": {},
   "outputs": [
    {
     "name": "stdout",
     "output_type": "stream",
     "text": [
      "-25.0942 -25.417 -25.1754 -25.0361 -24.7633 -25.1706 -24.71 -25.5677 -25.654 -24.4294 "
     ]
    }
   ],
   "source": [
    "for(unsigned ts = start; ts < end; ts++) std::cout << v_simp_one_loc[ts] << \" \";"
   ]
  },
  {
   "cell_type": "code",
   "execution_count": 18,
   "id": "ee111c9e-a063-45c7-951a-7824de1e87af",
   "metadata": {},
   "outputs": [
    {
     "name": "stdout",
     "output_type": "stream",
     "text": [
      "-3.49039"
     ]
    }
   ],
   "source": [
    "std::cout << MathUtils::mean(v_simp_one_loc);"
   ]
  },
  {
   "cell_type": "markdown",
   "id": "94545cbb-8133-4a05-8282-793e6539f5c3",
   "metadata": {},
   "source": [
    "### Linear Scaling-adjusted data (2001 - 2030)"
   ]
  },
  {
   "cell_type": "code",
   "execution_count": 19,
   "id": "60ad733c-af09-4f0d-95f0-cd580845ef0d",
   "metadata": {},
   "outputs": [
    {
     "name": "stdout",
     "output_type": "stream",
     "text": [
      "-23.0942 -23.417 -23.1754 -23.0361 -22.7633 -23.1706 -22.71 -23.5677 -23.654 -22.4294 "
     ]
    }
   ],
   "source": [
    "for(unsigned ts = 0; ts < 10; ts++) std::cout << v_ls_result[ts] << \" \";"
   ]
  },
  {
   "cell_type": "code",
   "execution_count": 20,
   "id": "33d4ff8f",
   "metadata": {},
   "outputs": [
    {
     "name": "stdout",
     "output_type": "stream",
     "text": [
      "-1.49039\n"
     ]
    },
    {
     "data": {
      "text/plain": [
       "@0x10f8ba558"
      ]
     },
     "execution_count": 20,
     "metadata": {},
     "output_type": "execute_result"
    }
   ],
   "source": [
    "std::cout << MathUtils::mean(v_ls_result) << std::endl;\n",
    "\n",
    "// as you can see, the linear scaled result is 2°C warmer than the scenario data set. This\n",
    "// is why the difference between the observations and the modeled data of the control period\n",
    "// is adjusted."
   ]
  },
  {
   "cell_type": "markdown",
   "id": "ec6bf95e-b842-4ece-b14e-1f12a292cb8c",
   "metadata": {},
   "source": [
    "### Quantile Delta Mapping-adjusted data (2001 - 2030)"
   ]
  },
  {
   "cell_type": "code",
   "execution_count": 21,
   "id": "7803463d-7dd8-4b6e-8ff9-1a21003d9c0e",
   "metadata": {},
   "outputs": [
    {
     "name": "stdout",
     "output_type": "stream",
     "text": [
      "-23.0842 -23.4073 -23.1656 -23.0243 -22.7518 -23.1609 -22.7013 -23.5562 -23.6325 -22.4175 "
     ]
    }
   ],
   "source": [
    "for(unsigned ts = 0; ts < 10; ts++) std::cout << v_qdm_result[ts] << \" \";"
   ]
  },
  {
   "cell_type": "code",
   "execution_count": 22,
   "id": "5e58c763-355f-4549-a264-9e5838532159",
   "metadata": {},
   "outputs": [
    {
     "name": "stdout",
     "output_type": "stream",
     "text": [
      "-1.48977"
     ]
    }
   ],
   "source": [
    "std::cout << MathUtils::mean(v_qdm_result);"
   ]
  },
  {
   "cell_type": "markdown",
   "id": "c303619c-90c3-4050-a2ce-36c272014e25",
   "metadata": {},
   "source": [
    "## 3. Save to file"
   ]
  },
  {
   "cell_type": "code",
   "execution_count": 23,
   "id": "e6d77465-1073-4643-8fdb-ed5a2a067665",
   "metadata": {},
   "outputs": [],
   "source": [
    "// Save to new file without any time attributes -> for example when only a part of the time series is adjusted and needs to be saved\n",
    "/** Note: \n",
    "*    The last parameter is n_time, so one can save datasets that does not match the NcFileHandlers` (<ds_simp>) dimensions .\n",
    "*    All time attributes are missing here, so one have to set them using some other variable.\n",
    "*/\n",
    "NcFileHandler ncSaver;\n",
    "ncSaver.to_netcdf(\"qdm_result.nc\", variable_name, v_qdm_result);"
   ]
  },
  {
   "cell_type": "code",
   "execution_count": 24,
   "id": "101f92fa-29a6-42fc-86f6-a4614c73e780",
   "metadata": {},
   "outputs": [],
   "source": [
    "// Saving can also be done by using the ds_simp instance to copy all time attributes and values to the full adjusted time series \n",
    "ds_simp.to_netcdf(\"qdm_result.nc\", variable_name, v_qdm_result);"
   ]
  },
  {
   "cell_type": "markdown",
   "id": "9e53e2b8-d7fc-4cc8-b52b-14ca4e5b7cda",
   "metadata": {},
   "source": [
    "# 4. More usage examples based on Unidata Program Center's NetCDF data strucutres \n",
    "References: http://doi.org/10.5065/D6H70CW6"
   ]
  },
  {
   "cell_type": "code",
   "execution_count": 25,
   "id": "c6563442-e2be-4f64-bc0e-494e79eb4646",
   "metadata": {},
   "outputs": [
    {
     "name": "stdout",
     "output_type": "stream",
     "text": [
      "time lat lon"
     ]
    }
   ],
   "source": [
    "std::cout << ds_simp.time_name << \" \" << ds_simp.lat_name << \" \" << ds_simp.lon_name;"
   ]
  },
  {
   "cell_type": "code",
   "execution_count": 26,
   "id": "73227a54-95c6-40d5-bc22-5537e0cfe60b",
   "metadata": {},
   "outputs": [
    {
     "name": "stdout",
     "output_type": "stream",
     "text": [
      "units degrees_north degrees_east"
     ]
    }
   ],
   "source": [
    "std::cout << ds_simp.units << \" \" << ds_simp.lat_unit << \" \" << ds_simp.lon_unit;"
   ]
  },
  {
   "cell_type": "code",
   "execution_count": 27,
   "id": "7f449f18-9bbb-4e0e-8e8f-fb78e6fc9bb8",
   "metadata": {},
   "outputs": [
    {
     "name": "stdout",
     "output_type": "stream",
     "text": [
      "10950 4 2"
     ]
    }
   ],
   "source": [
    "std::cout << ds_simp.n_time << \" \" << ds_simp.n_lat << \" \" << ds_simp.n_lon;"
   ]
  },
  {
   "cell_type": "code",
   "execution_count": 28,
   "id": "d1bdcab5-edb7-41d7-b038-b14b260d7c2b",
   "metadata": {},
   "outputs": [
    {
     "name": "stdout",
     "output_type": "stream",
     "text": [
      "Latitudes: 23 24 25 26 \n",
      "Longitudes: 0 1 \n",
      "First 10 time values: 0 1 2 3 4 5 6 7 8 9 ..."
     ]
    }
   ],
   "source": [
    "std::cout << \"Latitudes: \";\n",
    "for(unsigned lat = 0; lat < ds_simp.n_lat; lat++) std::cout << ds_simp.lat_values[lat] << \" \";\n",
    "std::cout << std::endl << \"Longitudes: \";\n",
    "for(unsigned lon = 0; lon < ds_simp.n_lon; lon++) std::cout << ds_simp.lon_values[lon] << \" \";\n",
    "std::cout << std::endl << \"First 10 time values: \";\n",
    "for(unsigned time = 0; time < 10; time++) std::cout << ds_simp.time_values[time] << \" \";\n",
    "std::cout << \"...\";"
   ]
  },
  {
   "cell_type": "markdown",
   "id": "d215df6f-e365-4880-975e-b3ac9bb4823f",
   "metadata": {},
   "source": [
    "So why are time values just integers?\n",
    "\n",
    "-> Because time is counted up by an initial date: "
   ]
  },
  {
   "cell_type": "code",
   "execution_count": 29,
   "id": "67e00d69-81a9-4a1f-8001-4ec1ddd43ee0",
   "metadata": {},
   "outputs": [
    {
     "data": {
      "text/plain": [
       "{ \"calendar\" => @0x6000040dfec8, \"units\" => @0x6000040dfc98 }"
      ]
     },
     "execution_count": 29,
     "metadata": {},
     "output_type": "execute_result"
    }
   ],
   "source": [
    "ds_simp.time_var.getAtts()"
   ]
  },
  {
   "cell_type": "code",
   "execution_count": 30,
   "id": "093c24e1-3e99-4c56-a450-207ffa00e4b7",
   "metadata": {},
   "outputs": [
    {
     "name": "stdout",
     "output_type": "stream",
     "text": [
      "noleapdays since 2001-01-01 00:00:00.000000"
     ]
    }
   ],
   "source": [
    "for (std::pair<std::string, netCDF::NcVarAtt> att : ds_simp.time_var.getAtts()) {\n",
    "    if (att.second.getType().getName() == \"char\") {\n",
    "        char value[att.second.getAttLength()];\n",
    "        att.second.getValues(value);\n",
    "        std::cout << value;\n",
    "    }\n",
    "}"
   ]
  },
  {
   "cell_type": "code",
   "execution_count": null,
   "id": "bafb945a-4c3c-402d-9128-c283d2d42e42",
   "metadata": {},
   "outputs": [],
   "source": []
  }
 ],
 "metadata": {
  "kernelspec": {
   "display_name": "C++11 [conda env:clingenv]",
   "language": "C++11",
   "name": "conda-env-clingenv-xeus-cling-cpp11"
  },
  "language_info": {
   "codemirror_mode": "text/x-c++src",
   "file_extension": ".cpp",
   "mimetype": "text/x-c++src",
   "name": "c++",
   "version": "-std=c++11"
  },
  "vscode": {
   "interpreter": {
    "hash": "fcdf04a44e761d9d414541aa8350215dc9152533f236a04b54c441c84fdfed0e"
   }
  }
 },
 "nbformat": 4,
 "nbformat_minor": 5
}
